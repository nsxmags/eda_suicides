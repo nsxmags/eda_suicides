{
 "cells": [
  {
   "cell_type": "markdown",
   "metadata": {},
   "source": [
    "# EDA Codes\n",
    "for the Study of Suicide Rates by Year and Country"
   ]
  },
  {
   "cell_type": "code",
   "execution_count": null,
   "metadata": {},
   "outputs": [],
   "source": [
    "import pandas as pd\n",
    "import numpy as np\n",
    "import matplotlib.pyplot as plt\n",
    "import seaborn as sns\n",
    "\n",
    "plt.style.use('fivethirtyeight')\n",
    "pd.set_option('display.max_columns', None)\n",
    "pd.set_option('display.max_rows', None)\n",
    "pd.options.display.float_format = '{:.2f}'.format\n",
    "\n",
    "%matplotlib inline"
   ]
  },
  {
   "cell_type": "code",
   "execution_count": null,
   "metadata": {},
   "outputs": [],
   "source": [
    "df = pd.read_csv(r'C:\\Users\\maggi\\Desktop\\suicide_ready.csv', low_memory=False)"
   ]
  },
  {
   "cell_type": "code",
   "execution_count": null,
   "metadata": {},
   "outputs": [],
   "source": [
    "# Let's start with some histograms of the quantitative data in our dataset\n",
    "df.hist(grid=True,figsize=(10,15),color='blue')\n",
    "plt.show()"
   ]
  },
  {
   "cell_type": "markdown",
   "metadata": {},
   "source": [
    "The distribution of 'HID per year' and 'year' are negatively skewed, whilst the others are all positively skewed. "
   ]
  },
  {
   "cell_type": "code",
   "execution_count": null,
   "metadata": {},
   "outputs": [],
   "source": [
    "# Suicides by sex and age scatterplot grids\n",
    "import numpy as np\n",
    "import seaborn as sns\n",
    "import matplotlib.pyplot as plt\n",
    "sns.set(style=\"darkgrid\")\n",
    "\n",
    "g = sns.FacetGrid(df, row=\"sex\", col=\"age\", margin_titles=True)\n",
    "\n",
    "g.map(plt.scatter, \"suicides\",\"population\", edgecolor=\"w\")"
   ]
  },
  {
   "cell_type": "markdown",
   "metadata": {},
   "source": [
    "The grid that stands out in terms of the highest number of suicides is the male between 35-54 years. "
   ]
  },
  {
   "cell_type": "code",
   "execution_count": null,
   "metadata": {},
   "outputs": [],
   "source": [
    "# Presenting the number of suicides by age in a table\n",
    "suicides_sex_age = df[['sex', 'age', 'suicides']].groupby(['sex', 'age']).mean()\n",
    "suicides_sex_age"
   ]
  },
  {
   "cell_type": "code",
   "execution_count": null,
   "metadata": {},
   "outputs": [],
   "source": [
    "#Let's re-arrange age categories into ascending order and remove the wording\n",
    "suicides_sex_age.reset_index(inplace=True)\n",
    "suicides_sex_age['age'] = suicides_sex_age['age'].str.replace(' years', '')\n",
    "\n",
    "age_sort = {'5-14': 0, '15-24': 1, '25-34': 2, '35-54': 3, '55-74':4,'75+': 5} \n",
    "suicides_sex_age['sort'] = suicides_sex_age['age'].map(age_sort)\n",
    "suicides_sex_age.sort_values(by='sort', inplace=True)\n",
    "suicides_sex_age.drop('sort', axis=1, inplace=True)\n",
    "\n",
    "sns.barplot(x='sex', y='suicides', hue='age', data=suicides_sex_age)"
   ]
  },
  {
   "cell_type": "code",
   "execution_count": null,
   "metadata": {},
   "outputs": [],
   "source": [
    "#Add labels and improve layout of histogram\n",
    "age_groups = suicides_sex_age['age'].unique()\n",
    "male_suicides = suicides_sex_age[suicides_sex_age['sex'] == 'male']['suicides']\n",
    "female_suicides = suicides_sex_age[suicides_sex_age['sex'] == 'female']['suicides']\n",
    "\n",
    "plt.bar(age_groups, male_suicides, label='Male')\n",
    "plt.bar(age_groups, female_suicides, label='Female')\n",
    "\n",
    "plt.title('Global average number of suicides by age')\n",
    "plt.xlabel('Age Group')\n",
    "plt.ylabel('Suicides')\n",
    "plt.legend()\n",
    "plt.show()"
   ]
  },
  {
   "cell_type": "markdown",
   "metadata": {},
   "source": [
    "- This chart shows male suicide counts are significantly higher than females across all age groups.\n",
    "- The 35-54 age group have the highest number of suicides for both male and female.\n",
    "- Male suicides for most age groups are 3 times higher than females, and double in for the 2 extreme age groups (5-14 and 75+)."
   ]
  },
  {
   "cell_type": "code",
   "execution_count": null,
   "metadata": {},
   "outputs": [],
   "source": [
    "#Lets visualise the change in suicide numbers for age groups over the years\n",
    "\n",
    "age_15 = df.loc[df.loc[:, 'age']=='15-24 years',:]\n",
    "age_35 = df.loc[df.loc[:, 'age']=='35-54 years',:]\n",
    "age_75 = df.loc[df.loc[:, 'age']=='75+ years',:]\n",
    "age_25 = df.loc[df.loc[:, 'age']=='25-34 years',:]\n",
    "age_55 = df.loc[df.loc[:, 'age']=='55-74 years',:]\n",
    "age_5 = df.loc[df.loc[:, 'age']=='5-14 years',:]"
   ]
  },
  {
   "cell_type": "code",
   "execution_count": null,
   "metadata": {},
   "outputs": [],
   "source": [
    "p = sns.lineplot(x='year', y='suicides', data=age_5)\n",
    "q = sns.lineplot(x='year', y='suicides', data=age_15)\n",
    "r = sns.lineplot(x='year', y='suicides', data=age_25)\n",
    "s = sns.lineplot(x='year', y='suicides', data=age_35)\n",
    "t = sns.lineplot(x='year', y='suicides', data=age_55)\n",
    "t = sns.lineplot(x='year', y='suicides', data=age_75)\n",
    "\n",
    "_ = plt.legend(['5-14 years', '15-24 years', '25-34 years', '35-54 years', '55-74 years', '75+ years'])"
   ]
  },
  {
   "cell_type": "markdown",
   "metadata": {},
   "source": [
    "The age group of 35-54 dominates this chart with the most changes"
   ]
  },
  {
   "cell_type": "code",
   "execution_count": null,
   "metadata": {},
   "outputs": [],
   "source": [
    "#Lets visualise the change in suicide numbers for both male and female over the years\n",
    "male_population = df.loc[df.loc[:, 'sex']=='male',:]\n",
    "female_population = df.loc[df.loc[:, 'sex']=='female',:]"
   ]
  },
  {
   "cell_type": "code",
   "execution_count": null,
   "metadata": {},
   "outputs": [],
   "source": [
    "p = sns.lineplot(x='year', y='suicides', data=male_population)\n",
    "q = sns.lineplot(x='year', y='suicides', data=female_population)\n",
    "\n",
    "_ = plt.legend(['males', 'females'])"
   ]
  },
  {
   "cell_type": "markdown",
   "metadata": {},
   "source": [
    "- On average, male's suicide numbers are 3 times higher than females. \n",
    "- It seems the suicide rate was declining from 1994, until a sharp spike in 2015. The major event in 2015 was the Global Financial Crisis."
   ]
  },
  {
   "cell_type": "code",
   "execution_count": null,
   "metadata": {},
   "outputs": [],
   "source": [
    "# to see the distribution of data by year\n",
    "y = df['year']\n",
    "sns.countplot(x='year', data=df)\n",
    "plt.xticks(rotation=90)\n",
    "plt.title(\"record count by year\")\n",
    "plt.show()"
   ]
  },
  {
   "cell_type": "code",
   "execution_count": null,
   "metadata": {},
   "outputs": [],
   "source": [
    "from bokeh.io import output_file, show, output_notebook\n",
    "from bokeh.plotting import figure\n",
    "import matplotlib.pyplot as plt\n",
    "import pandas as pd\n",
    "output_notebook()\n",
    "\n",
    "%matplotlib inline"
   ]
  },
  {
   "cell_type": "code",
   "execution_count": null,
   "metadata": {},
   "outputs": [],
   "source": [
    "# create your figure and add it to a variable\n",
    "plot = figure(plot_width=400, tools='pan, box_zoom')\n",
    "\n",
    "# use your Glyph method of choice and pass in vars\n",
    "plot.circle(df['year'], df['suicides'])\n",
    "output_file('suicide_by_years.html') # will save the output as an html file\n",
    "\n",
    "# show your figure\n",
    "show(plot)"
   ]
  },
  {
   "cell_type": "markdown",
   "metadata": {},
   "source": [
    "There appears to be very little amount of data in the year 2016"
   ]
  },
  {
   "cell_type": "code",
   "execution_count": null,
   "metadata": {
    "scrolled": true
   },
   "outputs": [],
   "source": [
    "#suicides_vs_gpd\n",
    "\n",
    "suicides_vs_gpd = df[['suicides_100kpop', 'year', 'gdp_per_capita']].groupby('year').mean()\n",
    "suicides_vs_gpd.reset_index(inplace=True)\n",
    "suicides_vs_gpd"
   ]
  },
  {
   "cell_type": "code",
   "execution_count": null,
   "metadata": {},
   "outputs": [],
   "source": [
    "fig, ax1 = plt.subplots()\n",
    "\n",
    "# Plot the number of suicides over the years.\n",
    "lns1 = ax1.plot(suicides_vs_gpd['year'], suicides_vs_gpd['suicides_100kpop'], 'C0', label='Suicides')\n",
    "\n",
    "# Create a shared axis for plotting on a different scale for the GPD.\n",
    "ax2 = ax1.twinx()\n",
    "lns2 = ax2.plot(suicides_vs_gpd['year'], suicides_vs_gpd['gdp_per_capita'], 'C1', label='GPD')\n",
    "\n",
    "# Join both legends into the same box.\n",
    "lns = lns1 + lns2\n",
    "labs = [l.get_label() for l in lns]\n",
    "ax1.legend(lns, labs, loc=2)\n",
    "\n",
    "# Set the labels.\n",
    "ax1.set_ylabel('Suicides per 100,000 population')\n",
    "ax2.set_ylabel('GDP per Capita')\n",
    "ax1.set_xlabel('Years')\n",
    "\n",
    "plt.tight_layout()\n",
    "plt.show()"
   ]
  },
  {
   "cell_type": "markdown",
   "metadata": {},
   "source": [
    "- This chart shows from 1995 onwards that as GDP increases, the number of suicide decreases. \n",
    "- 1995 will be around when the US Financial Crisis occured (https://www.cfr.org/timeline/us-financial-crisis)"
   ]
  },
  {
   "cell_type": "code",
   "execution_count": null,
   "metadata": {
    "scrolled": true
   },
   "outputs": [],
   "source": [
    "#Pivot table of total number of suicides per country over the years\n",
    "year_country = df[df['year']!=2016].pivot_table(\n",
    "    index=['year'],\n",
    "    values='suicides',\n",
    "    columns='country',\n",
    "    aggfunc='sum'\n",
    ").T\n",
    "\n",
    "year_country"
   ]
  },
  {
   "cell_type": "markdown",
   "metadata": {},
   "source": [
    "- From the pivot table above, there appears to be quite a few countries with very few years of data. \n",
    "- I will remove those with less than 3 years of data if I was to clean this data again."
   ]
  },
  {
   "cell_type": "code",
   "execution_count": null,
   "metadata": {},
   "outputs": [],
   "source": [
    "# Average suicide rate by country\n",
    "suicides_country = df[['country', 'year', 'suicides']].groupby(['country', 'year']).mean()\n",
    "g = sns.FacetGrid(suicides_country.groupby(['country','year']).suicides.sum().reset_index(), col='country', col_wrap=6, row_order='suicides')\n",
    "g = g.map(plt.plot, \"year\", \"suicides\", marker=\".\")"
   ]
  },
  {
   "cell_type": "markdown",
   "metadata": {},
   "source": [
    "- Not every country have recorded data consistently across the 2 decades, some from the beginning (e.g. Sri Lanka), others have data for a few years in the middle (e.g. Aruba), and there are those that recorded towards the end of the reporting period (e.g. Turkey), it will be fair to observe the average suicide count per year for each country.\n",
    "- The top 10 countries with the highest average suicide rate in descending order are: Russian Federation, United States, Japan, Ukraine, Germany, France, Republic of Korea, Brazil, Poland and Sri Lanka.\n",
    "- The countries continuing to trend upwards are Brazil and United States."
   ]
  }
 ],
 "metadata": {
  "kernelspec": {
   "display_name": "Python 3",
   "language": "python",
   "name": "python3"
  },
  "language_info": {
   "codemirror_mode": {
    "name": "ipython",
    "version": 3
   },
   "file_extension": ".py",
   "mimetype": "text/x-python",
   "name": "python",
   "nbconvert_exporter": "python",
   "pygments_lexer": "ipython3",
   "version": "3.7.6"
  }
 },
 "nbformat": 4,
 "nbformat_minor": 4
}
